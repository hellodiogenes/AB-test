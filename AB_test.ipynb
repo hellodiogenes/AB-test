{
 "cells": [
  {
   "cell_type": "markdown",
   "metadata": {},
   "source": [
    "# Задача\n",
    "\n",
    "Имеются результаты A/B теста, в котором двум группам пользователей предлагались различные наборы акционных предложений. Известно, что ARPU в тестовой группе выше на 5%, чем в контрольной. При этом в контрольной группе 1928 игроков из 202103 оказались платящими, а в тестовой – 1805 из 202667.\n",
    "\n",
    "Какой набор предложений можно считать лучшим? Какие метрики стоит проанализировать для принятия правильного решения и как?\n",
    "_______________\n",
    "\n",
    "# Подготовка\n",
    "\n",
    "Для решения задачи была использована библиотека pandas, библиотека seaborn для визуализации распределений, библиотека numpy для реализации ряда математических операций и библиотека scipy.stats для проведения теста Манна-Уитни. Кроме того, я установил питоновскую библиотеку bootstrapped для проведения Bootstrapa'а."
   ]
  },
  {
   "cell_type": "code",
   "execution_count": 1,
   "metadata": {},
   "outputs": [],
   "source": [
    "import pandas as pd\n",
    "import seaborn as sns\n",
    "import scipy.stats as stats\n",
    "import numpy as np\n",
    "import matplotlib.pyplot as plt"
   ]
  },
  {
   "cell_type": "markdown",
   "metadata": {},
   "source": [
    "Для удобства я сразу поделил данные по обоим тестам на 2 датафрейма."
   ]
  },
  {
   "cell_type": "code",
   "execution_count": 2,
   "metadata": {
    "scrolled": true
   },
   "outputs": [],
   "source": [
    "task_2 = pd.read_csv('data_for_AB.csv', sep=';')\n",
    "\n",
    "# Здесь лежат контрольные данные.\n",
    "task_a = task_2.query('testgroup == \"a\"') \n",
    "\n",
    "# Здесь лежат тестовые данные.\n",
    "task_b = task_2.query('testgroup == \"b\"')"
   ]
  },
  {
   "cell_type": "code",
   "execution_count": 3,
   "metadata": {},
   "outputs": [
    {
     "data": {
      "text/html": [
       "<div>\n",
       "<style scoped>\n",
       "    .dataframe tbody tr th:only-of-type {\n",
       "        vertical-align: middle;\n",
       "    }\n",
       "\n",
       "    .dataframe tbody tr th {\n",
       "        vertical-align: top;\n",
       "    }\n",
       "\n",
       "    .dataframe thead th {\n",
       "        text-align: right;\n",
       "    }\n",
       "</style>\n",
       "<table border=\"1\" class=\"dataframe\">\n",
       "  <thead>\n",
       "    <tr style=\"text-align: right;\">\n",
       "      <th></th>\n",
       "      <th>user_id</th>\n",
       "      <th>revenue</th>\n",
       "      <th>testgroup</th>\n",
       "    </tr>\n",
       "  </thead>\n",
       "  <tbody>\n",
       "    <tr>\n",
       "      <th>0</th>\n",
       "      <td>1</td>\n",
       "      <td>0</td>\n",
       "      <td>b</td>\n",
       "    </tr>\n",
       "    <tr>\n",
       "      <th>1</th>\n",
       "      <td>2</td>\n",
       "      <td>0</td>\n",
       "      <td>a</td>\n",
       "    </tr>\n",
       "    <tr>\n",
       "      <th>2</th>\n",
       "      <td>3</td>\n",
       "      <td>0</td>\n",
       "      <td>a</td>\n",
       "    </tr>\n",
       "  </tbody>\n",
       "</table>\n",
       "</div>"
      ],
      "text/plain": [
       "   user_id  revenue testgroup\n",
       "0        1        0         b\n",
       "1        2        0         a\n",
       "2        3        0         a"
      ]
     },
     "execution_count": 3,
     "metadata": {},
     "output_type": "execute_result"
    }
   ],
   "source": [
    "task_2.head(3)"
   ]
  },
  {
   "cell_type": "markdown",
   "metadata": {},
   "source": [
    "Из первичного анализа я узнал, что подавляющее число пользователей в обоих группах не вносило денег в игру."
   ]
  },
  {
   "cell_type": "code",
   "execution_count": 4,
   "metadata": {},
   "outputs": [
    {
     "data": {
      "text/html": [
       "<div>\n",
       "<style scoped>\n",
       "    .dataframe tbody tr th:only-of-type {\n",
       "        vertical-align: middle;\n",
       "    }\n",
       "\n",
       "    .dataframe tbody tr th {\n",
       "        vertical-align: top;\n",
       "    }\n",
       "\n",
       "    .dataframe thead th {\n",
       "        text-align: right;\n",
       "    }\n",
       "</style>\n",
       "<table border=\"1\" class=\"dataframe\">\n",
       "  <thead>\n",
       "    <tr style=\"text-align: right;\">\n",
       "      <th></th>\n",
       "      <th>user_id</th>\n",
       "    </tr>\n",
       "    <tr>\n",
       "      <th>revenue</th>\n",
       "      <th></th>\n",
       "    </tr>\n",
       "  </thead>\n",
       "  <tbody>\n",
       "    <tr>\n",
       "      <th>0</th>\n",
       "      <td>401037</td>\n",
       "    </tr>\n",
       "    <tr>\n",
       "      <th>310</th>\n",
       "      <td>18</td>\n",
       "    </tr>\n",
       "    <tr>\n",
       "      <th>206</th>\n",
       "      <td>18</td>\n",
       "    </tr>\n",
       "  </tbody>\n",
       "</table>\n",
       "</div>"
      ],
      "text/plain": [
       "         user_id\n",
       "revenue         \n",
       "0         401037\n",
       "310           18\n",
       "206           18"
      ]
     },
     "execution_count": 4,
     "metadata": {},
     "output_type": "execute_result"
    }
   ],
   "source": [
    "task_2.groupby('revenue').agg({'user_id': 'count'}).sort_values('user_id', ascending = False).head(3)"
   ]
  },
  {
   "cell_type": "markdown",
   "metadata": {},
   "source": [
    "# Выбираем метрики\n",
    "\n",
    "Чтобы выбрать наиболее подходящую модель распространения внутриигровых товаров, я предлагаю посчитать ряд метрик по каждому из наборов, а также определить ряд значений:\n",
    "\n",
    "    1) Суммарная прибыль – позволит мне сходу узнать о прибыльности обоих тестов;\n",
    "    2) Минимальный доход с пользователя – узнать минимальную границу цен на товары, которые покупались;\n",
    "    3) Максимальный – узнать максимальную границу цен на товары, которые покупались;\n",
    "    4) 25 перцентиль по доходу – узнать примерный ценник на относительно дешевый товар;\n",
    "    5) Медианный доход – узнать медианый ценник на товар;\n",
    "    6) 75 перцентиль по доходу – узнать примерный ценник на относительно дорогой товар;\n",
    "    7) ARPU – узнать средний доход по всем пользователям;\n",
    "    8) ARPPU – узнать средний доход по всем платящим пользователям;\n",
    "    9) Paying Conversion (конверсия в платеж) – узнать процент платящих пользователй относительно всех пользователей.\n",
    "    \n",
    "Я построю функцию calculations, которая сразу выдаст мне искомые значения по всем метрикам:"
   ]
  },
  {
   "cell_type": "code",
   "execution_count": 5,
   "metadata": {},
   "outputs": [],
   "source": [
    "def calculations(a, b):\n",
    "    \n",
    "#   Суммарная прибыль\n",
    "    suma = a.revenue.sum()\n",
    "    sumb = b.revenue.sum()\n",
    "    \n",
    "#   Минимальный доход с человека\n",
    "    mina = a.query('revenue != 0').revenue.min()\n",
    "    minb = b.query('revenue != 0').revenue.min()\n",
    "    \n",
    "#   Максимальный доход с человека\n",
    "    maxa = a.revenue.max()\n",
    "    maxb = b.revenue.max()\n",
    "    \n",
    "#   25 перцентиль\n",
    "    pera25 = np.percentile(a.query('revenue != 0').revenue, 25)\n",
    "    perb25 = np.percentile(b.query('revenue != 0').revenue, 25)\n",
    "    \n",
    "#   Медианный доход с человека    \n",
    "    meda = np.percentile(a.query('revenue != 0').revenue, 50)\n",
    "    medb = np.percentile(b.query('revenue != 0').revenue, 50)\n",
    "\n",
    "#   75 перцентиль\n",
    "    pera75 = np.percentile(a.query('revenue != 0').revenue, 75)\n",
    "    perb75 = np.percentile(b.query('revenue != 0').revenue, 75)\n",
    "    \n",
    "#   ARPU\n",
    "    arpua = (a.revenue.sum() / a.user_id.nunique()).round(2)\n",
    "    arpub = (b.revenue.sum() / b.user_id.nunique()).round(2)\n",
    "\n",
    "#   ARPPU\n",
    "    arppua = (a.revenue.sum() / a.query('revenue != 0').user_id.nunique()).round(2)\n",
    "    arppub = (b.revenue.sum() / b.query('revenue != 0').user_id.nunique()).round(2)\n",
    "    \n",
    "#   Конверсия в платеж\n",
    "    conva = np.round((a.query('revenue != 0').user_id.nunique() / a.user_id.nunique() * 100),2)\n",
    "    convb = np.round((b.query('revenue != 0').user_id.nunique() / b.user_id.nunique() * 100),2)\n",
    "    \n",
    "#   Создаю словарь, из которого в итоге получится датафрейм с искомыми метриками.\n",
    "    metrix = {'sum_revenue': [suma, sumb],\n",
    "              'min_revenue': [mina, minb],\n",
    "              'max_revenue': [maxa, maxb],\n",
    "              '25_perc' :    [pera25, perb25],\n",
    "              '50_perc' :    [meda, medb],\n",
    "              '75_perc' :    [pera75, perb75],\n",
    "              'arpu':        [arpua, arpub],\n",
    "              'arppu':       [arppua, arppub],\n",
    "              'paying_conv': [conva, convb]}  \n",
    "    \n",
    "#   Для удобства присваиваю значения 'a' и 'b' индексам датафрейма.              \n",
    "    metrix = pd.DataFrame(metrix, index=['a', 'b'])\n",
    "    \n",
    "    return metrix"
   ]
  },
  {
   "cell_type": "markdown",
   "metadata": {},
   "source": [
    "# Проверяем работоспособность функции calculations:"
   ]
  },
  {
   "cell_type": "code",
   "execution_count": 6,
   "metadata": {
    "scrolled": false
   },
   "outputs": [
    {
     "data": {
      "text/html": [
       "<div>\n",
       "<style scoped>\n",
       "    .dataframe tbody tr th:only-of-type {\n",
       "        vertical-align: middle;\n",
       "    }\n",
       "\n",
       "    .dataframe tbody tr th {\n",
       "        vertical-align: top;\n",
       "    }\n",
       "\n",
       "    .dataframe thead th {\n",
       "        text-align: right;\n",
       "    }\n",
       "</style>\n",
       "<table border=\"1\" class=\"dataframe\">\n",
       "  <thead>\n",
       "    <tr style=\"text-align: right;\">\n",
       "      <th></th>\n",
       "      <th>sum_revenue</th>\n",
       "      <th>min_revenue</th>\n",
       "      <th>max_revenue</th>\n",
       "      <th>25_perc</th>\n",
       "      <th>50_perc</th>\n",
       "      <th>75_perc</th>\n",
       "      <th>arpu</th>\n",
       "      <th>arppu</th>\n",
       "      <th>paying_conv</th>\n",
       "    </tr>\n",
       "  </thead>\n",
       "  <tbody>\n",
       "    <tr>\n",
       "      <th>a</th>\n",
       "      <td>5136189</td>\n",
       "      <td>200</td>\n",
       "      <td>37433</td>\n",
       "      <td>257.0</td>\n",
       "      <td>311.0</td>\n",
       "      <td>361.0</td>\n",
       "      <td>25.41</td>\n",
       "      <td>2664.00</td>\n",
       "      <td>0.95</td>\n",
       "    </tr>\n",
       "    <tr>\n",
       "      <th>b</th>\n",
       "      <td>5421603</td>\n",
       "      <td>2000</td>\n",
       "      <td>4000</td>\n",
       "      <td>2513.0</td>\n",
       "      <td>3022.0</td>\n",
       "      <td>3478.0</td>\n",
       "      <td>26.75</td>\n",
       "      <td>3003.66</td>\n",
       "      <td>0.89</td>\n",
       "    </tr>\n",
       "  </tbody>\n",
       "</table>\n",
       "</div>"
      ],
      "text/plain": [
       "   sum_revenue  min_revenue  max_revenue  25_perc  50_perc  75_perc   arpu  \\\n",
       "a      5136189          200        37433    257.0    311.0    361.0  25.41   \n",
       "b      5421603         2000         4000   2513.0   3022.0   3478.0  26.75   \n",
       "\n",
       "     arppu  paying_conv  \n",
       "a  2664.00         0.95  \n",
       "b  3003.66         0.89  "
      ]
     },
     "execution_count": 6,
     "metadata": {},
     "output_type": "execute_result"
    }
   ],
   "source": [
    "calculations(task_a, task_b)"
   ]
  },
  {
   "cell_type": "markdown",
   "metadata": {},
   "source": [
    "Разница между общей прибылью равна 285414р."
   ]
  },
  {
   "cell_type": "code",
   "execution_count": 7,
   "metadata": {},
   "outputs": [
    {
     "data": {
      "text/plain": [
       "285414"
      ]
     },
     "execution_count": 7,
     "metadata": {},
     "output_type": "execute_result"
    }
   ],
   "source": [
    "5421603 - 5136189"
   ]
  },
  {
   "cell_type": "markdown",
   "metadata": {},
   "source": [
    "Разница между ARPPU равна 11%."
   ]
  },
  {
   "cell_type": "code",
   "execution_count": 8,
   "metadata": {
    "scrolled": true
   },
   "outputs": [
    {
     "data": {
      "text/plain": [
       "11.30820399113081"
      ]
     },
     "execution_count": 8,
     "metadata": {},
     "output_type": "execute_result"
    }
   ],
   "source": [
    "100 - ((100 * 2664.00) / 3003.66)"
   ]
  },
  {
   "cell_type": "markdown",
   "metadata": {},
   "source": [
    "Разница между конверсиями в платежи равна"
   ]
  },
  {
   "cell_type": "code",
   "execution_count": 9,
   "metadata": {},
   "outputs": [
    {
     "data": {
      "text/plain": [
       "6"
      ]
     },
     "execution_count": 9,
     "metadata": {},
     "output_type": "execute_result"
    }
   ],
   "source": [
    "95 - 89"
   ]
  },
  {
   "cell_type": "markdown",
   "metadata": {},
   "source": [
    "Перед выдвижением промежуточных выводов я хочу построить визуализацию, чтобы примерно понимать, как распределяется revenue."
   ]
  },
  {
   "cell_type": "code",
   "execution_count": 10,
   "metadata": {},
   "outputs": [
    {
     "data": {
      "text/plain": [
       "<Axes: xlabel='revenue', ylabel='Count'>"
      ]
     },
     "execution_count": 10,
     "metadata": {},
     "output_type": "execute_result"
    },
    {
     "data": {
      "image/png": "[encoded data removed]",
      "text/plain": [
       "<Figure size 640x480 with 1 Axes>"
      ]
     },
     "metadata": {},
     "output_type": "display_data"
    }
   ],
   "source": [
    "# Группа a\n",
    "sns.histplot(task_a.query('revenue != 0').revenue, kde = True, bins=10)"
   ]
  },
  {
   "cell_type": "markdown",
   "metadata": {},
   "source": [
    "Решил проверить, откуда в данном случае идет больше всего дохода: с больших платежей (revenue > 500р) или с маленьких (revenue < 500р).\n",
    "\n",
    "Выяснилось, что с больших."
   ]
  },
  {
   "cell_type": "code",
   "execution_count": 11,
   "metadata": {},
   "outputs": [
    {
     "data": {
      "text/plain": [
       "np.int64(545937)"
      ]
     },
     "execution_count": 11,
     "metadata": {},
     "output_type": "execute_result"
    }
   ],
   "source": [
    "task_a.query('revenue != 0 and revenue < 500').revenue.sum()"
   ]
  },
  {
   "cell_type": "code",
   "execution_count": 12,
   "metadata": {},
   "outputs": [
    {
     "data": {
      "text/plain": [
       "np.int64(4590252)"
      ]
     },
     "execution_count": 12,
     "metadata": {},
     "output_type": "execute_result"
    }
   ],
   "source": [
    "task_a.query('revenue != 0 and revenue > 500').revenue.sum()"
   ]
  },
  {
   "cell_type": "markdown",
   "metadata": {},
   "source": [
    "Дополнительно я решил посмотреть на распределение revenue среди мелких платежей и крупных."
   ]
  },
  {
   "cell_type": "code",
   "execution_count": 13,
   "metadata": {
    "scrolled": true
   },
   "outputs": [
    {
     "data": {
      "text/plain": [
       "<Axes: xlabel='revenue', ylabel='Count'>"
      ]
     },
     "execution_count": 13,
     "metadata": {},
     "output_type": "execute_result"
    },
    {
     "data": {
      "image/png": "[encoded data removed]",
      "text/plain": [
       "<Figure size 640x480 with 1 Axes>"
      ]
     },
     "metadata": {},
     "output_type": "display_data"
    }
   ],
   "source": [
    "sns.histplot(task_a.query('revenue != 0 and revenue < 500').revenue, kde = True, bins=10)"
   ]
  },
  {
   "cell_type": "code",
   "execution_count": 14,
   "metadata": {},
   "outputs": [
    {
     "data": {
      "text/plain": [
       "<Axes: xlabel='revenue', ylabel='Count'>"
      ]
     },
     "execution_count": 14,
     "metadata": {},
     "output_type": "execute_result"
    },
    {
     "data": {
      "image/png": "[encoded data removed]",
      "text/plain": [
       "<Figure size 640x480 with 1 Axes>"
      ]
     },
     "metadata": {},
     "output_type": "display_data"
    }
   ],
   "source": [
    "sns.histplot(task_a.query('revenue != 0 and revenue > 500').revenue, kde = True, bins=10)"
   ]
  },
  {
   "cell_type": "code",
   "execution_count": 15,
   "metadata": {},
   "outputs": [
    {
     "data": {
      "text/plain": [
       "<Axes: xlabel='revenue', ylabel='Count'>"
      ]
     },
     "execution_count": 15,
     "metadata": {},
     "output_type": "execute_result"
    },
    {
     "data": {
      "image/png": "[encoded data removed]",
      "text/plain": [
       "<Figure size 640x480 with 1 Axes>"
      ]
     },
     "metadata": {},
     "output_type": "display_data"
    }
   ],
   "source": [
    "# Группа b\n",
    "sns.histplot(task_b.query('revenue != 0').revenue, kde = True)"
   ]
  },
  {
   "cell_type": "markdown",
   "metadata": {},
   "source": [
    "# Промежуточные итоги:\n",
    "\n",
    "    1) Обе группы не имеют нормального распределения, что видно из визуализаций.\n",
    "    2) В контрольной группе основной доход идет от крупных платежей, которые поступают куда реже мелких.\n",
    "    3) В тестовой группе размах прибыли от игрока куда меньше, чем в контрольной.\n",
    "    4) В тестовой группе каждый игровой набор покупается с относительно одинаковой частотой.\n",
    "    5) В тестовой группе ARPPU выше на 11%.\n",
    "    6) В контрольной группе конверсия в платежи выше на 0.06%.\n",
    "    7) В тестовой группе общая прибыль выше на 285414р.\n",
    "    \n",
    "Основной вывод следующий:\n",
    "\n",
    "Если в контрольной группе наборы продаются по мелкому и по крупному чеку, то в тестовой группе наборы продаются по среднему чеку. По этой причине в тестовой группе конверсия в продажи меньше, однако сами платежи стабильнее."
   ]
  },
  {
   "cell_type": "markdown",
   "metadata": {},
   "source": [
    "# Тесты\n",
    "\n",
    "Я решил использовать тест Манна-Уитни, чтобы узнать, существует ли разница между контрольными и тестовыми данными.\n",
    "\n",
    "Гипотезы у меня следующие:\n",
    "\n",
    "    Н0 = распределение признака в первой выборке соответствует распределению признака во второй выборке.\n",
    "    Н1 = распределение признака в первой выборке не соответствует распределению признака во второй выборке.\n",
    "\n",
    "Для отклонения нулевой гипотезы p-value должен быть < 0.05\n",
    "\n",
    "Проведем тест:"
   ]
  },
  {
   "cell_type": "code",
   "execution_count": 16,
   "metadata": {},
   "outputs": [
    {
     "data": {
      "text/plain": [
       "MannwhitneyuResult(statistic=np.float64(20491259376.0), pvalue=np.float64(0.06269701316074398))"
      ]
     },
     "execution_count": 16,
     "metadata": {},
     "output_type": "execute_result"
    }
   ],
   "source": [
    "stats.mannwhitneyu(task_a.revenue, task_b.revenue)"
   ]
  },
  {
   "cell_type": "markdown",
   "metadata": {},
   "source": [
    "Тест Манна-Уитни показывает, что верна нулевая гипотеза, однако тест был проведен по необработанным данным.\n",
    "\n",
    "Я оставил в выборках данные по пользователям, которые не вложили деньги в игру.\n",
    "\n",
    "Проведем еще один ранговый тест уже отсортировав указанных пользователей:"
   ]
  },
  {
   "cell_type": "code",
   "execution_count": 17,
   "metadata": {
    "scrolled": true
   },
   "outputs": [
    {
     "data": {
      "text/plain": [
       "MannwhitneyuResult(statistic=np.float64(222015.0), pvalue=np.float64(0.0))"
      ]
     },
     "execution_count": 17,
     "metadata": {},
     "output_type": "execute_result"
    }
   ],
   "source": [
    "stats.mannwhitneyu(task_a.query('revenue != 0').revenue, task_b.query('revenue != 0').revenue)"
   ]
  },
  {
   "cell_type": "markdown",
   "metadata": {},
   "source": [
    "В данном случае мы можем отклонить нулевую гипотезу, т.е. получается, что оба распределения статистически различаются.\n",
    "\n",
    "Однако нам нужно узнать не о разнице между распределениями, а о прибыльности изменений.\n",
    "\n",
    "Для этого мы используем Bootstrap.\n",
    "\n",
    "Сперва проведем сравнение ARPU двух выборок, так как предположительно между ними есть значительная разница. Выведем следующие гипотезы:\n",
    "\n",
    "    H0 = Значение параметра ARPU статистически равно в обоих выборках.\n",
    "    H1 = Значение параметра ARPU статистически не равно в обоих выборках.\n",
    "    \n",
    "Для Bootstrap я взял 5000 выборок в размере 100 наблюдений в каждой. Доверительный интервал = 95%."
   ]
  },
  {
   "cell_type": "code",
   "execution_count": 18,
   "metadata": {},
   "outputs": [
    {
     "data": {
      "text/plain": [
       "'\\n# Среднее\\n\\nprint(bs_compare.percent_change(task_b.revenue.mean(),\\n                                task_a.revenue.mean()))\\n\\nprint(bs.bootstrap_ab(np.array(task_b.revenue), \\n                      np.array(task_a.revenue), \\n                      bs_stats.mean,\\n                      bs_compare.percent_change,\\n                      num_iterations=5000,\\n                      alpha=0.05,\\n                      iteration_batch_size=100))\\n'"
      ]
     },
     "execution_count": 18,
     "metadata": {},
     "output_type": "execute_result"
    }
   ],
   "source": [
    "\n",
    "'''\n",
    "# Среднее\n",
    "\n",
    "print(bs_compare.percent_change(task_b.revenue.mean(),\n",
    "                                task_a.revenue.mean()))\n",
    "\n",
    "print(bs.bootstrap_ab(np.array(task_b.revenue), \n",
    "                      np.array(task_a.revenue), \n",
    "                      bs_stats.mean,\n",
    "                      bs_compare.percent_change,\n",
    "                      num_iterations=5000,\n",
    "                      alpha=0.05,\n",
    "                      iteration_batch_size=100))\n",
    "'''"
   ]
  },
  {
   "cell_type": "markdown",
   "metadata": {},
   "source": [
    "Выяснилось, что в данном случае не выйдет отклонить нулевую гипотезу, поскольку 0 не входит в доверительный интервал.\n",
    "\n",
    "Предполагаю, что я столкнулся с ошибкой второго рода из-за избытка нулей в в выборке. Поэтому теперь я постараюсь испытать Bootstrap на параметре ARPPU.\n",
    "\n",
    "Выведем следующие гипотезы:\n",
    "\n",
    "    H0 = Значение параметра ARPPU статистически равно в обоих выборках.\n",
    "    H1 = Значение параметра ARPPU статистически не равно в обоих выборках.\n",
    "\n",
    "Для Bootstrap я взял 5000 выборок в размере 100 наблюдений в каждой. Доверительный интервал = 95%."
   ]
  },
  {
   "cell_type": "code",
   "execution_count": 19,
   "metadata": {},
   "outputs": [
    {
     "data": {
      "text/plain": [
       "\"\\nprint(bs_compare.percent_change(task_b.query('revenue != 0').revenue.mean(),\\n                                task_a.query('revenue != 0').revenue.mean()))\\n\\nprint(bs.bootstrap_ab(np.array(task_b.query('revenue != 0').revenue), \\n                      np.array(task_a.query('revenue != 0').revenue), \\n                      bs_stats.mean,\\n                      bs_compare.percent_change,\\n                      num_iterations=5000,\\n                      alpha=0.05,\\n                      iteration_batch_size=100))\\n\""
      ]
     },
     "execution_count": 19,
     "metadata": {},
     "output_type": "execute_result"
    }
   ],
   "source": [
    "# Среднее без неплатящих пользователей\n",
    "'''\n",
    "print(bs_compare.percent_change(task_b.query('revenue != 0').revenue.mean(),\n",
    "                                task_a.query('revenue != 0').revenue.mean()))\n",
    "\n",
    "print(bs.bootstrap_ab(np.array(task_b.query('revenue != 0').revenue), \n",
    "                      np.array(task_a.query('revenue != 0').revenue), \n",
    "                      bs_stats.mean,\n",
    "                      bs_compare.percent_change,\n",
    "                      num_iterations=5000,\n",
    "                      alpha=0.05,\n",
    "                      iteration_batch_size=100))\n",
    "'''"
   ]
  },
  {
   "cell_type": "markdown",
   "metadata": {},
   "source": [
    "Выяснилось, что и в данном случае не выйдет отклонить нулевую гипотезу, поскольку 0 не входит в доверительный интервал.\n",
    "\n",
    "Однако, как нам известно, распределения обоих выборок разительно отличаются. Поэтому я решил проверить медиану, чтобы обезапасить себя от ошибки второго рода из-за выбросов. \n",
    "\n",
    "В случае с медианой я сразу отфильтрую данные на предмет неплатящих пользователей. В противном случае функция будет показывать NaN-значения, т.к. из-за обилия нулей медиана в обоих группах будет равна 0.\n",
    "\n",
    "Выведем следующие гипотезы:\n",
    "\n",
    "    H0 = Значение параметра медиана статистически равно в обоих выборках.\n",
    "    H1 = Значение параметра медиана статистически не равно в обоих выборках.\n",
    "\n",
    "Для Bootstrap я взял 5000 выборок в размере 100 наблюдений в каждой. Доверительный интервал = 95%."
   ]
  },
  {
   "cell_type": "code",
   "execution_count": 20,
   "metadata": {},
   "outputs": [
    {
     "name": "stdout",
     "output_type": "stream",
     "text": [
      "Разница медиан: -2711.0\n",
      "Доверительный интервал: [-2894.5, -2516.0]\n",
      "Интерпретация: Статистическая значимость обнаружена: медианы двух выборок различаются.\n"
     ]
    }
   ],
   "source": [
    "def bootstrap_median_difference(data1, data2, n_bootstraps=5000, sample_size=100, confidence_level=0.95):\n",
    "    \"\"\"\n",
    "    Функция для проведения бутстрэпа для оценки разницы медиан двух выборок и построения доверительных интервалов.\n",
    "    \n",
    "    :param data1: Первая выборка (одномерный массив).\n",
    "    :param data2: Вторая выборка (одномерный массив).\n",
    "    :param n_bootstraps: Количество бутстрэп выборок (по умолчанию 5000).\n",
    "    :param sample_size: Размер одной выборки (по умолчанию 100).\n",
    "    :param confidence_level: Уровень доверия для построения доверительного интервала (по умолчанию 0.95).\n",
    "    :return: Разница медиан, нижняя граница доверительного интервала, верхняя граница доверительного интервала,\n",
    "             Интерпретация результата.\n",
    "    \"\"\"\n",
    "    # Создаем пустые списки для хранения разниц медиан бутстрэп выборок\n",
    "    bootstrapped_differences = []\n",
    "    \n",
    "    for _ in range(n_bootstraps):\n",
    "        # Берем случайные выборки с заменой из каждой группы\n",
    "        bootstrap_sample1 = np.random.choice(data1, size=sample_size, replace=True)\n",
    "        bootstrap_sample2 = np.random.choice(data2, size=sample_size, replace=True)\n",
    "        \n",
    "        # Рассчитываем разницу медиан этих выборок\n",
    "        difference = np.median(bootstrap_sample1) - np.median(bootstrap_sample2)\n",
    "        bootstrapped_differences.append(difference)\n",
    "    \n",
    "    # Сортируем полученные разницы медиан\n",
    "    sorted_differences = np.sort(bootstrapped_differences)\n",
    "    \n",
    "    # Определяем индексы для нижней и верхней границы доверительного интервала\n",
    "    lower_index = int((1 - confidence_level) / 2 * n_bootstraps)\n",
    "    upper_index = int((1 + confidence_level) / 2 * n_bootstraps)\n",
    "    \n",
    "    # Получаем нижнюю и верхнюю границу доверительного интервала\n",
    "    lower_bound = sorted_differences[lower_index]\n",
    "    upper_bound = sorted_differences[upper_index]\n",
    "    \n",
    "    # Интерпретация результата\n",
    "    interpretation = \"\"\n",
    "    if 0 not in np.arange(lower_bound, upper_bound + 1):\n",
    "        interpretation += \"Статистическая значимость обнаружена: медианы двух выборок различаются.\"\n",
    "    else:\n",
    "        interpretation += \"Нет статистической значимости: медианы двух выборок не различаются.\"\n",
    "    \n",
    "    return np.median(data1) - np.median(data2), lower_bound, upper_bound, interpretation\n",
    "\n",
    "# Пример использования функций\n",
    "task_a_revenue = np.array(task_a.query('revenue != 0').revenue)\n",
    "task_b_revenue = np.array(task_b.query('revenue != 0').revenue)\n",
    "\n",
    "median_diff, ci_lower, ci_upper, interpretation = bootstrap_median_difference(task_a_revenue, task_b_revenue)\n",
    "print(f\"Разница медиан: {median_diff}\")\n",
    "print(f\"Доверительный интервал: [{ci_lower}, {ci_upper}]\")\n",
    "print(f\"Интерпретация: {interpretation}\")\n",
    "\n",
    "\n"
   ]
  },
  {
   "cell_type": "markdown",
   "metadata": {},
   "source": [
    "Наконец-то я могу отклонить нулевую гипотезу, так как ноль не входит в посчитанный доверительный интервал.\n",
    "\n",
    "Таким образом мы можем сказать, что в тестовой группе доход действительно выше, чем в контрольной.\n",
    "\n"
   ]
  },
  {
   "cell_type": "markdown",
   "metadata": {},
   "source": [
    "# Выводы\n",
    "\n",
    "Я предлагаю использовать тестовую модель распространения товара, поскольку она обладает следующими преимуществами:\n",
    "\n",
    "1) В тестовой выборке метрики ARPU и ARPPU оказались выше.\n",
    "\n",
    "2) Тестовая выборка предлагает более стабильный вариант распространения товара. Все товары в тестовой группе продаются более менее равномерно (что видно исходя из визуализации распределение revenue).\n",
    "    \n",
    "3) Создателям игры будет легче править ее баланс и экономику, т.к. в тестовом варианте пользователям предлагается покупать товары примерно одной ценовой категории (от 2000р до 4000р)."
   ]
  },
  {
   "cell_type": "code",
   "execution_count": null,
   "metadata": {},
   "outputs": [],
   "source": []
  }
 ],
 "metadata": {
  "kernelspec": {
   "display_name": "Python 3",
   "language": "python",
   "name": "python3"
  },
  "language_info": {
   "codemirror_mode": {
    "name": "ipython",
    "version": 3
   },
   "file_extension": ".py",
   "mimetype": "text/x-python",
   "name": "python",
   "nbconvert_exporter": "python",
   "pygments_lexer": "ipython3",
   "version": "3.11.9"
  }
 },
 "nbformat": 4,
 "nbformat_minor": 4
}
